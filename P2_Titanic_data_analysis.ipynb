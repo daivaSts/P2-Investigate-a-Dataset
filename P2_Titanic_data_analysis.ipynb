{
 "cells": [
  {
   "cell_type": "markdown",
   "metadata": {},
   "source": [
    "### Udacity /  Data Analyst Nanodegree 08'2016\n",
    "### P2: Investigate a Dataset"
   ]
  },
  {
   "cell_type": "markdown",
   "metadata": {},
   "source": [
    "### 1. ASSIGNMENT\n",
    "Choose one of Udacity's curated datasets and investigate it using NumPy and Pandas. Go through the entire data analysis process, starting by posing a question and finishing by sharing your findings."
   ]
  },
  {
   "cell_type": "markdown",
   "metadata": {},
   "source": [
    "### 2. TOOLS\n",
    "Import all required libraries and modules - numpy, pandas, matplotlib.pyplot and seaborn - to be able to produce calculations and plots in ipython notebook to analyze the titanic data."
   ]
  },
  {
   "cell_type": "code",
   "execution_count": 28,
   "metadata": {
    "collapsed": false
   },
   "outputs": [],
   "source": [
    "import matplotlib.pyplot as plt\n",
    "import matplotlib.axes as ax\n",
    "from matplotlib import gridspec\n",
    "import numpy as np\n",
    "import pandas as pd\n",
    "import seaborn as sns\n",
    "%matplotlib inline"
   ]
  },
  {
   "cell_type": "markdown",
   "metadata": {},
   "source": [
    "### 3. DATA SET LOADING AND GENERAL REVIEW"
   ]
  },
  {
   "cell_type": "markdown",
   "metadata": {},
   "source": [
    "Titanic Data set - Contains demographics and passenger information from 891 of the 2224 passengers and crew on board the Titanic."
   ]
  },
  {
   "cell_type": "code",
   "execution_count": 2,
   "metadata": {
    "collapsed": false
   },
   "outputs": [
    {
     "data": {
      "text/html": [
       "<div>\n",
       "<table border=\"1\" class=\"dataframe\">\n",
       "  <thead>\n",
       "    <tr style=\"text-align: right;\">\n",
       "      <th></th>\n",
       "      <th>PassengerId</th>\n",
       "      <th>Survived</th>\n",
       "      <th>Pclass</th>\n",
       "      <th>Name</th>\n",
       "      <th>Sex</th>\n",
       "      <th>Age</th>\n",
       "      <th>SibSp</th>\n",
       "      <th>Parch</th>\n",
       "      <th>Ticket</th>\n",
       "      <th>Fare</th>\n",
       "      <th>Cabin</th>\n",
       "      <th>Embarked</th>\n",
       "    </tr>\n",
       "  </thead>\n",
       "  <tbody>\n",
       "    <tr>\n",
       "      <th>0</th>\n",
       "      <td>1</td>\n",
       "      <td>0</td>\n",
       "      <td>3</td>\n",
       "      <td>Braund, Mr. Owen Harris</td>\n",
       "      <td>male</td>\n",
       "      <td>22.0</td>\n",
       "      <td>1</td>\n",
       "      <td>0</td>\n",
       "      <td>A/5 21171</td>\n",
       "      <td>7.2500</td>\n",
       "      <td>NaN</td>\n",
       "      <td>S</td>\n",
       "    </tr>\n",
       "    <tr>\n",
       "      <th>1</th>\n",
       "      <td>2</td>\n",
       "      <td>1</td>\n",
       "      <td>1</td>\n",
       "      <td>Cumings, Mrs. John Bradley (Florence Briggs Th...</td>\n",
       "      <td>female</td>\n",
       "      <td>38.0</td>\n",
       "      <td>1</td>\n",
       "      <td>0</td>\n",
       "      <td>PC 17599</td>\n",
       "      <td>71.2833</td>\n",
       "      <td>C85</td>\n",
       "      <td>C</td>\n",
       "    </tr>\n",
       "    <tr>\n",
       "      <th>2</th>\n",
       "      <td>3</td>\n",
       "      <td>1</td>\n",
       "      <td>3</td>\n",
       "      <td>Heikkinen, Miss. Laina</td>\n",
       "      <td>female</td>\n",
       "      <td>26.0</td>\n",
       "      <td>0</td>\n",
       "      <td>0</td>\n",
       "      <td>STON/O2. 3101282</td>\n",
       "      <td>7.9250</td>\n",
       "      <td>NaN</td>\n",
       "      <td>S</td>\n",
       "    </tr>\n",
       "    <tr>\n",
       "      <th>3</th>\n",
       "      <td>4</td>\n",
       "      <td>1</td>\n",
       "      <td>1</td>\n",
       "      <td>Futrelle, Mrs. Jacques Heath (Lily May Peel)</td>\n",
       "      <td>female</td>\n",
       "      <td>35.0</td>\n",
       "      <td>1</td>\n",
       "      <td>0</td>\n",
       "      <td>113803</td>\n",
       "      <td>53.1000</td>\n",
       "      <td>C123</td>\n",
       "      <td>S</td>\n",
       "    </tr>\n",
       "    <tr>\n",
       "      <th>4</th>\n",
       "      <td>5</td>\n",
       "      <td>0</td>\n",
       "      <td>3</td>\n",
       "      <td>Allen, Mr. William Henry</td>\n",
       "      <td>male</td>\n",
       "      <td>35.0</td>\n",
       "      <td>0</td>\n",
       "      <td>0</td>\n",
       "      <td>373450</td>\n",
       "      <td>8.0500</td>\n",
       "      <td>NaN</td>\n",
       "      <td>S</td>\n",
       "    </tr>\n",
       "  </tbody>\n",
       "</table>\n",
       "</div>"
      ],
      "text/plain": [
       "   PassengerId  Survived  Pclass  \\\n",
       "0            1         0       3   \n",
       "1            2         1       1   \n",
       "2            3         1       3   \n",
       "3            4         1       1   \n",
       "4            5         0       3   \n",
       "\n",
       "                                                Name     Sex   Age  SibSp  \\\n",
       "0                            Braund, Mr. Owen Harris    male  22.0      1   \n",
       "1  Cumings, Mrs. John Bradley (Florence Briggs Th...  female  38.0      1   \n",
       "2                             Heikkinen, Miss. Laina  female  26.0      0   \n",
       "3       Futrelle, Mrs. Jacques Heath (Lily May Peel)  female  35.0      1   \n",
       "4                           Allen, Mr. William Henry    male  35.0      0   \n",
       "\n",
       "   Parch            Ticket     Fare Cabin Embarked  \n",
       "0      0         A/5 21171   7.2500   NaN        S  \n",
       "1      0          PC 17599  71.2833   C85        C  \n",
       "2      0  STON/O2. 3101282   7.9250   NaN        S  \n",
       "3      0            113803  53.1000  C123        S  \n",
       "4      0            373450   8.0500   NaN        S  "
      ]
     },
     "execution_count": 2,
     "metadata": {},
     "output_type": "execute_result"
    }
   ],
   "source": [
    "filename = 'titanic_data.csv'\n",
    "titanic_df = pd.read_csv(filename)\n",
    "titanic_df.head()"
   ]
  },
  {
   "cell_type": "markdown",
   "metadata": {},
   "source": [
    "**VARIABLE DESCRIPTIONS:**<br/>\n",
    "survival - Survival (0 = No; 1 = Yes)<br/>\n",
    "pclass - Passenger Class (1 = 1st; 2 = 2nd; 3 = 3rd)<br/>\n",
    "name - Name<br/>\n",
    "sex - Sex<br/>\n",
    "age - Age<br/>\n",
    "sibsp - Number of Siblings/Spouses Aboard<br/>\n",
    "parch - Number of Parents/Children Aboard<br/>\n",
    "ticket - Ticket Number<br/>\n",
    "fare - Passenger Fare<br/>\n",
    "cabin - Cabin<br/>\n",
    "embarked - Port of Embarkation(C = Cherbourg; Q = Queenstown; S = Southampton)"
   ]
  },
  {
   "cell_type": "markdown",
   "metadata": {},
   "source": [
    "**MISSING DATA:**<br/>\n",
    "To verify if there are any missing data, I am generating summary statistics of the data set. Result shows the count of 'Age' column is less than other numerical column counts, it has NaN values. "
   ]
  },
  {
   "cell_type": "code",
   "execution_count": 3,
   "metadata": {
    "collapsed": false
   },
   "outputs": [
    {
     "name": "stderr",
     "output_type": "stream",
     "text": [
      "/Users/daivasatas/anaconda/lib/python2.7/site-packages/numpy/lib/function_base.py:3403: RuntimeWarning: Invalid value encountered in median\n",
      "  RuntimeWarning)\n"
     ]
    },
    {
     "data": {
      "text/html": [
       "<div>\n",
       "<table border=\"1\" class=\"dataframe\">\n",
       "  <thead>\n",
       "    <tr style=\"text-align: right;\">\n",
       "      <th></th>\n",
       "      <th>PassengerId</th>\n",
       "      <th>Survived</th>\n",
       "      <th>Pclass</th>\n",
       "      <th>Age</th>\n",
       "      <th>SibSp</th>\n",
       "      <th>Parch</th>\n",
       "      <th>Fare</th>\n",
       "    </tr>\n",
       "  </thead>\n",
       "  <tbody>\n",
       "    <tr>\n",
       "      <th>count</th>\n",
       "      <td>891.000000</td>\n",
       "      <td>891.000000</td>\n",
       "      <td>891.000000</td>\n",
       "      <td>714.000000</td>\n",
       "      <td>891.000000</td>\n",
       "      <td>891.000000</td>\n",
       "      <td>891.000000</td>\n",
       "    </tr>\n",
       "    <tr>\n",
       "      <th>mean</th>\n",
       "      <td>446.000000</td>\n",
       "      <td>0.383838</td>\n",
       "      <td>2.308642</td>\n",
       "      <td>29.699118</td>\n",
       "      <td>0.523008</td>\n",
       "      <td>0.381594</td>\n",
       "      <td>32.204208</td>\n",
       "    </tr>\n",
       "    <tr>\n",
       "      <th>std</th>\n",
       "      <td>257.353842</td>\n",
       "      <td>0.486592</td>\n",
       "      <td>0.836071</td>\n",
       "      <td>14.526497</td>\n",
       "      <td>1.102743</td>\n",
       "      <td>0.806057</td>\n",
       "      <td>49.693429</td>\n",
       "    </tr>\n",
       "    <tr>\n",
       "      <th>min</th>\n",
       "      <td>1.000000</td>\n",
       "      <td>0.000000</td>\n",
       "      <td>1.000000</td>\n",
       "      <td>0.420000</td>\n",
       "      <td>0.000000</td>\n",
       "      <td>0.000000</td>\n",
       "      <td>0.000000</td>\n",
       "    </tr>\n",
       "    <tr>\n",
       "      <th>25%</th>\n",
       "      <td>223.500000</td>\n",
       "      <td>0.000000</td>\n",
       "      <td>2.000000</td>\n",
       "      <td>NaN</td>\n",
       "      <td>0.000000</td>\n",
       "      <td>0.000000</td>\n",
       "      <td>7.910400</td>\n",
       "    </tr>\n",
       "    <tr>\n",
       "      <th>50%</th>\n",
       "      <td>446.000000</td>\n",
       "      <td>0.000000</td>\n",
       "      <td>3.000000</td>\n",
       "      <td>NaN</td>\n",
       "      <td>0.000000</td>\n",
       "      <td>0.000000</td>\n",
       "      <td>14.454200</td>\n",
       "    </tr>\n",
       "    <tr>\n",
       "      <th>75%</th>\n",
       "      <td>668.500000</td>\n",
       "      <td>1.000000</td>\n",
       "      <td>3.000000</td>\n",
       "      <td>NaN</td>\n",
       "      <td>1.000000</td>\n",
       "      <td>0.000000</td>\n",
       "      <td>31.000000</td>\n",
       "    </tr>\n",
       "    <tr>\n",
       "      <th>max</th>\n",
       "      <td>891.000000</td>\n",
       "      <td>1.000000</td>\n",
       "      <td>3.000000</td>\n",
       "      <td>80.000000</td>\n",
       "      <td>8.000000</td>\n",
       "      <td>6.000000</td>\n",
       "      <td>512.329200</td>\n",
       "    </tr>\n",
       "  </tbody>\n",
       "</table>\n",
       "</div>"
      ],
      "text/plain": [
       "       PassengerId    Survived      Pclass         Age       SibSp  \\\n",
       "count   891.000000  891.000000  891.000000  714.000000  891.000000   \n",
       "mean    446.000000    0.383838    2.308642   29.699118    0.523008   \n",
       "std     257.353842    0.486592    0.836071   14.526497    1.102743   \n",
       "min       1.000000    0.000000    1.000000    0.420000    0.000000   \n",
       "25%     223.500000    0.000000    2.000000         NaN    0.000000   \n",
       "50%     446.000000    0.000000    3.000000         NaN    0.000000   \n",
       "75%     668.500000    1.000000    3.000000         NaN    1.000000   \n",
       "max     891.000000    1.000000    3.000000   80.000000    8.000000   \n",
       "\n",
       "            Parch        Fare  \n",
       "count  891.000000  891.000000  \n",
       "mean     0.381594   32.204208  \n",
       "std      0.806057   49.693429  \n",
       "min      0.000000    0.000000  \n",
       "25%      0.000000    7.910400  \n",
       "50%      0.000000   14.454200  \n",
       "75%      0.000000   31.000000  \n",
       "max      6.000000  512.329200  "
      ]
     },
     "execution_count": 3,
     "metadata": {},
     "output_type": "execute_result"
    }
   ],
   "source": [
    "titanic_df[['PassengerId', 'Survived', 'Pclass', 'Age', 'SibSp', 'Parch', 'Fare']].describe()"
   ]
  },
  {
   "cell_type": "markdown",
   "metadata": {},
   "source": [
    "To investigate the data set in detail, I generate statistics after droping entries that have missing/NaN data. The resulted data set has lost too many entries to proceed with the analysis."
   ]
  },
  {
   "cell_type": "code",
   "execution_count": 4,
   "metadata": {
    "collapsed": false
   },
   "outputs": [
    {
     "data": {
      "text/html": [
       "<div>\n",
       "<table border=\"1\" class=\"dataframe\">\n",
       "  <thead>\n",
       "    <tr style=\"text-align: right;\">\n",
       "      <th></th>\n",
       "      <th>PassengerId</th>\n",
       "      <th>Survived</th>\n",
       "      <th>Pclass</th>\n",
       "      <th>Age</th>\n",
       "      <th>SibSp</th>\n",
       "      <th>Parch</th>\n",
       "      <th>Fare</th>\n",
       "    </tr>\n",
       "  </thead>\n",
       "  <tbody>\n",
       "    <tr>\n",
       "      <th>count</th>\n",
       "      <td>183.000000</td>\n",
       "      <td>183.000000</td>\n",
       "      <td>183.000000</td>\n",
       "      <td>183.000000</td>\n",
       "      <td>183.000000</td>\n",
       "      <td>183.000000</td>\n",
       "      <td>183.000000</td>\n",
       "    </tr>\n",
       "    <tr>\n",
       "      <th>mean</th>\n",
       "      <td>455.366120</td>\n",
       "      <td>0.672131</td>\n",
       "      <td>1.191257</td>\n",
       "      <td>35.674426</td>\n",
       "      <td>0.464481</td>\n",
       "      <td>0.475410</td>\n",
       "      <td>78.682469</td>\n",
       "    </tr>\n",
       "    <tr>\n",
       "      <th>std</th>\n",
       "      <td>247.052476</td>\n",
       "      <td>0.470725</td>\n",
       "      <td>0.515187</td>\n",
       "      <td>15.643866</td>\n",
       "      <td>0.644159</td>\n",
       "      <td>0.754617</td>\n",
       "      <td>76.347843</td>\n",
       "    </tr>\n",
       "    <tr>\n",
       "      <th>min</th>\n",
       "      <td>2.000000</td>\n",
       "      <td>0.000000</td>\n",
       "      <td>1.000000</td>\n",
       "      <td>0.920000</td>\n",
       "      <td>0.000000</td>\n",
       "      <td>0.000000</td>\n",
       "      <td>0.000000</td>\n",
       "    </tr>\n",
       "    <tr>\n",
       "      <th>25%</th>\n",
       "      <td>263.500000</td>\n",
       "      <td>0.000000</td>\n",
       "      <td>1.000000</td>\n",
       "      <td>24.000000</td>\n",
       "      <td>0.000000</td>\n",
       "      <td>0.000000</td>\n",
       "      <td>29.700000</td>\n",
       "    </tr>\n",
       "    <tr>\n",
       "      <th>50%</th>\n",
       "      <td>457.000000</td>\n",
       "      <td>1.000000</td>\n",
       "      <td>1.000000</td>\n",
       "      <td>36.000000</td>\n",
       "      <td>0.000000</td>\n",
       "      <td>0.000000</td>\n",
       "      <td>57.000000</td>\n",
       "    </tr>\n",
       "    <tr>\n",
       "      <th>75%</th>\n",
       "      <td>676.000000</td>\n",
       "      <td>1.000000</td>\n",
       "      <td>1.000000</td>\n",
       "      <td>47.500000</td>\n",
       "      <td>1.000000</td>\n",
       "      <td>1.000000</td>\n",
       "      <td>90.000000</td>\n",
       "    </tr>\n",
       "    <tr>\n",
       "      <th>max</th>\n",
       "      <td>890.000000</td>\n",
       "      <td>1.000000</td>\n",
       "      <td>3.000000</td>\n",
       "      <td>80.000000</td>\n",
       "      <td>3.000000</td>\n",
       "      <td>4.000000</td>\n",
       "      <td>512.329200</td>\n",
       "    </tr>\n",
       "  </tbody>\n",
       "</table>\n",
       "</div>"
      ],
      "text/plain": [
       "       PassengerId    Survived      Pclass         Age       SibSp  \\\n",
       "count   183.000000  183.000000  183.000000  183.000000  183.000000   \n",
       "mean    455.366120    0.672131    1.191257   35.674426    0.464481   \n",
       "std     247.052476    0.470725    0.515187   15.643866    0.644159   \n",
       "min       2.000000    0.000000    1.000000    0.920000    0.000000   \n",
       "25%     263.500000    0.000000    1.000000   24.000000    0.000000   \n",
       "50%     457.000000    1.000000    1.000000   36.000000    0.000000   \n",
       "75%     676.000000    1.000000    1.000000   47.500000    1.000000   \n",
       "max     890.000000    1.000000    3.000000   80.000000    3.000000   \n",
       "\n",
       "            Parch        Fare  \n",
       "count  183.000000  183.000000  \n",
       "mean     0.475410   78.682469  \n",
       "std      0.754617   76.347843  \n",
       "min      0.000000    0.000000  \n",
       "25%      0.000000   29.700000  \n",
       "50%      0.000000   57.000000  \n",
       "75%      1.000000   90.000000  \n",
       "max      4.000000  512.329200  "
      ]
     },
     "execution_count": 4,
     "metadata": {},
     "output_type": "execute_result"
    }
   ],
   "source": [
    "titanic_df_dropna = titanic_df.dropna()\n",
    "titanic_df_dropna.describe()"
   ]
  },
  {
   "cell_type": "markdown",
   "metadata": {},
   "source": [
    "I am countig non-empty fields in every text column of data set. The result shows that  'Cabin', 'Embarked' columns have empty fields."
   ]
  },
  {
   "cell_type": "code",
   "execution_count": 5,
   "metadata": {
    "collapsed": false
   },
   "outputs": [
    {
     "data": {
      "text/plain": [
       "Name        891\n",
       "Sex         891\n",
       "Cabin       204\n",
       "Embarked    889\n",
       "Ticket      891\n",
       "dtype: int64"
      ]
     },
     "execution_count": 5,
     "metadata": {},
     "output_type": "execute_result"
    }
   ],
   "source": [
    "titanic_df[['Name', 'Sex', 'Cabin', 'Embarked', 'Ticket']].count()"
   ]
  },
  {
   "cell_type": "markdown",
   "metadata": {},
   "source": [
    "The result shows that  'Cabin', 'Embarked' columns have empty fields. I decided not to use these particular data in my investigation, as well as 'Name','Ticket' and 'Age' columns."
   ]
  },
  {
   "cell_type": "code",
   "execution_count": 6,
   "metadata": {
    "collapsed": false
   },
   "outputs": [
    {
     "name": "stdout",
     "output_type": "stream",
     "text": [
      "<class 'pandas.core.frame.DataFrame'>\n",
      "RangeIndex: 891 entries, 0 to 890\n",
      "Data columns (total 7 columns):\n",
      "PassengerId    891 non-null int64\n",
      "Survived       891 non-null int64\n",
      "Pclass         891 non-null int64\n",
      "Sex            891 non-null object\n",
      "SibSp          891 non-null int64\n",
      "Parch          891 non-null int64\n",
      "Fare           891 non-null float64\n",
      "dtypes: float64(1), int64(5), object(1)\n",
      "memory usage: 48.8+ KB\n"
     ]
    }
   ],
   "source": [
    "titanic_df = titanic_df.drop(['Cabin', 'Name', 'Age', 'Embarked', 'Ticket'], axis=1)\n",
    "titanic_df.info()"
   ]
  },
  {
   "cell_type": "markdown",
   "metadata": {},
   "source": [
    "To detect if there are non-unifom, mis-matched formats or any values with typographical errors needed correcting, I am generating unique values for columns 'Survived', 'Sex' and 'Pclass'. The result is as expected."
   ]
  },
  {
   "cell_type": "code",
   "execution_count": 7,
   "metadata": {
    "collapsed": false
   },
   "outputs": [
    {
     "name": "stdout",
     "output_type": "stream",
     "text": [
      "[0 1]\n",
      "['female' 'male']\n",
      "[1 2 3]\n"
     ]
    }
   ],
   "source": [
    "unique_survived = np.unique(titanic_df[['Survived']].values)\n",
    "unique_sex = np.unique(titanic_df[['Sex']].values)\n",
    "unique_pclass = np.unique(titanic_df[['Pclass']].values)\n",
    "\n",
    "print unique_survived\n",
    "print unique_sex\n",
    "print unique_pclass"
   ]
  },
  {
   "cell_type": "markdown",
   "metadata": {},
   "source": [
    "### 4. HYPOTHESIS"
   ]
  },
  {
   "cell_type": "markdown",
   "metadata": {},
   "source": [
    "One of the reasons that the shipwreck led to such loss of life was that there were not enough lifeboats for the passengers and crew. Although there was some element of luck involved in surviving the sinking, some groups of people were more likely to survive than others, such as women, children, and the upper-class. (https://www.kaggle.com/c/titanic)<br/>\n",
    "My goal is to explore the survival rates of men, and women overall and based on their traveling class or how the rates correlated with passenger location on the ship. In particular, I wanted to compare survival rates of the first class males and third class females. The hypothesis is that the gender does impact the chances of survival.  <br/>"
   ]
  },
  {
   "cell_type": "markdown",
   "metadata": {},
   "source": [
    "H0: Gender has no impact on survivability<br/>\n",
    "H1: Gender does impact the chances of survivability<br/>\n",
    "\n",
    "α level: 0.05 / 5%"
   ]
  },
  {
   "cell_type": "markdown",
   "metadata": {},
   "source": [
    "### 5. ANALYZING DATA"
   ]
  },
  {
   "cell_type": "markdown",
   "metadata": {},
   "source": [
    "### \"Titanic\" total passenger proportions "
   ]
  },
  {
   "cell_type": "code",
   "execution_count": 8,
   "metadata": {
    "collapsed": false
   },
   "outputs": [],
   "source": [
    "gender = titanic_df['Sex']\n",
    "pclass = titanic_df['Pclass']"
   ]
  },
  {
   "cell_type": "code",
   "execution_count": 9,
   "metadata": {
    "collapsed": false
   },
   "outputs": [
    {
     "data": {
      "text/plain": [
       "male      577\n",
       "female    314\n",
       "Name: Sex, dtype: int64"
      ]
     },
     "execution_count": 9,
     "metadata": {},
     "output_type": "execute_result"
    }
   ],
   "source": [
    "gender.value_counts()"
   ]
  },
  {
   "cell_type": "code",
   "execution_count": 10,
   "metadata": {
    "collapsed": false
   },
   "outputs": [
    {
     "data": {
      "text/plain": [
       "<matplotlib.text.Text at 0x116f80490>"
      ]
     },
     "execution_count": 10,
     "metadata": {},
     "output_type": "execute_result"
    },
    {
     "data": {
      "image/png": "[encoded data removed]",
      "text/plain": [
       "<matplotlib.figure.Figure at 0x116efb650>"
      ]
     },
     "metadata": {},
     "output_type": "display_data"
    }
   ],
   "source": [
    "gender.value_counts().plot(\n",
    "    kind='pie',\n",
    "    colors=['yellowgreen', 'gold'], \n",
    "    autopct='%1.0f%%',\n",
    "    labels=['Male', 'Female'],\n",
    "    fontsize=14,\n",
    "    radius=0.8,\n",
    "    labeldistance=0.9\n",
    ")\n",
    "plt.title('\"Titanic\" total passenger gender rates.', y =0.9, fontsize=14)\n",
    "plt.ylabel('')"
   ]
  },
  {
   "cell_type": "code",
   "execution_count": 11,
   "metadata": {
    "collapsed": false
   },
   "outputs": [
    {
     "data": {
      "text/plain": [
       "3    491\n",
       "1    216\n",
       "2    184\n",
       "Name: Pclass, dtype: int64"
      ]
     },
     "execution_count": 11,
     "metadata": {},
     "output_type": "execute_result"
    }
   ],
   "source": [
    "pclass.value_counts()"
   ]
  },
  {
   "cell_type": "code",
   "execution_count": 12,
   "metadata": {
    "collapsed": false
   },
   "outputs": [
    {
     "data": {
      "text/plain": [
       "<matplotlib.text.Text at 0x119770550>"
      ]
     },
     "execution_count": 12,
     "metadata": {},
     "output_type": "execute_result"
    },
    {
     "data": {
      "image/png": "[encoded data removed]",
      "text/plain": [
       "<matplotlib.figure.Figure at 0x116efb610>"
      ]
     },
     "metadata": {},
     "output_type": "display_data"
    }
   ],
   "source": [
    "pclass.value_counts().plot(\n",
    "    kind='pie',\n",
    "    colors=['yellowgreen', 'gold', 'orange'], \n",
    "    autopct='%1.0f%%',\n",
    "    labels=['Lower Class', 'Middle Class', 'Upper Class'],\n",
    "    fontsize=14,\n",
    "    radius=0.8,\n",
    "    labeldistance=0.9\n",
    ")\n",
    "plt.title('\"Titanic\" total passenger class rates.', y =0.9, fontsize=14)\n",
    "plt.ylabel('')"
   ]
  },
  {
   "cell_type": "markdown",
   "metadata": {},
   "source": [
    "### \"Titanic\" total proportions of survivors"
   ]
  },
  {
   "cell_type": "code",
   "execution_count": 13,
   "metadata": {
    "collapsed": false
   },
   "outputs": [],
   "source": [
    "survived = titanic_df['Survived']"
   ]
  },
  {
   "cell_type": "code",
   "execution_count": 14,
   "metadata": {
    "collapsed": false
   },
   "outputs": [
    {
     "data": {
      "text/plain": [
       "0    549\n",
       "1    342\n",
       "Name: Survived, dtype: int64"
      ]
     },
     "execution_count": 14,
     "metadata": {},
     "output_type": "execute_result"
    }
   ],
   "source": [
    "survived.value_counts()"
   ]
  },
  {
   "cell_type": "code",
   "execution_count": 15,
   "metadata": {
    "collapsed": false
   },
   "outputs": [
    {
     "data": {
      "text/plain": [
       "<matplotlib.text.Text at 0x119a03890>"
      ]
     },
     "execution_count": 15,
     "metadata": {},
     "output_type": "execute_result"
    },
    {
     "data": {
      "image/png": "[encoded data removed]",
      "text/plain": [
       "<matplotlib.figure.Figure at 0x119770110>"
      ]
     },
     "metadata": {},
     "output_type": "display_data"
    }
   ],
   "source": [
    "survived.value_counts().plot(\n",
    "    kind='pie',\n",
    "    colors=['yellowgreen', 'gold'], \n",
    "    autopct='%1.0f%%',\n",
    "    labels=['Did not survive', 'Survived'],\n",
    "    fontsize=14,\n",
    "    radius=0.8,\n",
    "    labeldistance=0.9\n",
    ")\n",
    "plt.title('\"Titanic\" total passenger survival rates.', y =0.9, fontsize=14)\n",
    "plt.ylabel('')"
   ]
  },
  {
   "cell_type": "markdown",
   "metadata": {},
   "source": [
    "### \"Titanic\" survival rates based on gender"
   ]
  },
  {
   "cell_type": "code",
   "execution_count": 16,
   "metadata": {
    "collapsed": false
   },
   "outputs": [
    {
     "name": "stdout",
     "output_type": "stream",
     "text": [
      "Survived    0    1\n",
      "Sex               \n",
      "female     81  233\n",
      "male      468  109\n",
      "\n",
      "Survived         0         1\n",
      "Sex                         \n",
      "female    0.257962  0.742038\n",
      "male      0.811092  0.188908\n"
     ]
    }
   ],
   "source": [
    "print pd.crosstab(gender, survived)\n",
    "print \n",
    "print pd.crosstab(gender, survived, normalize='index')"
   ]
  },
  {
   "cell_type": "code",
   "execution_count": 17,
   "metadata": {
    "collapsed": true
   },
   "outputs": [],
   "source": [
    "## Grouping data by gender (male, female) and class (1,2,3).\n",
    "grouped_gen_class = titanic_df.groupby(['Sex','Pclass'])"
   ]
  },
  {
   "cell_type": "code",
   "execution_count": 18,
   "metadata": {
    "collapsed": false
   },
   "outputs": [],
   "source": [
    "# Data for female passengers\n",
    "data_sum_f =  grouped_gen_class.sum()['Survived']['female']    # number of female survivors\n",
    "data_count_f = grouped_gen_class.count()['Survived']['female'] # number of female passengers\n",
    "class_f = data_sum_f.keys().values                             # array of classes of female passengers \n",
    "rate_f = (data_sum_f / data_count_f) * 100                     # proportion of female passenger survivors by pclass\n",
    "\n",
    "total_f = gender.value_counts()['female']\n",
    "\n",
    "total_survived_f = pd.crosstab(gender,survived)[1]['female']\n",
    "rate_total_f = int(total_survived_f / float(total_f ) * 100)   # proportion of all female passenger survivors"
   ]
  },
  {
   "cell_type": "code",
   "execution_count": 19,
   "metadata": {
    "collapsed": true
   },
   "outputs": [],
   "source": [
    "# Data for male pasangers\n",
    "data_sum_m =  grouped_gen_class.sum()['Survived']['male']    # number of male survivors\n",
    "data_count_m = grouped_gen_class.count()['Survived']['male'] # number of male passengers\n",
    "class_m = data_sum_m.keys().values                           # array of classes of female passengers\n",
    "rate_m = (data_sum_m / data_count_m) * 100                   # proportion of male passanger survivors by pclass\n",
    "\n",
    "total_m = gender.value_counts()['male']\n",
    "total_survived_m = pd.crosstab(gender,survived)[1]['male']\n",
    "rate_total_m = int(total_survived_m / float(total_m) * 100)  # proportion of all male passenger survivors"
   ]
  },
  {
   "cell_type": "code",
   "execution_count": 20,
   "metadata": {
    "collapsed": false
   },
   "outputs": [],
   "source": [
    "rate = [rate_total_f,rate_total_m]\n",
    "survival_rate_total = pd.Series(\n",
    "    rate,\n",
    "    index = ['female', 'male']\n",
    ")"
   ]
  },
  {
   "cell_type": "code",
   "execution_count": 21,
   "metadata": {
    "collapsed": false
   },
   "outputs": [
    {
     "data": {
      "image/png": "[encoded data removed]",
      "text/plain": [
       "<matplotlib.figure.Figure at 0x11997a810>"
      ]
     },
     "metadata": {},
     "output_type": "display_data"
    }
   ],
   "source": [
    "plot_2 = survival_rate_total.plot(\n",
    "    kind='bar',\n",
    "    color=['green', 'orange'],\n",
    "    width=1,  \n",
    "    position=1.5,\n",
    "        figsize=(6,6)\n",
    ")\n",
    "\n",
    "plot_2.axes.get_xaxis().set_visible(False)\n",
    "plt.ylabel('Survived, %')\n",
    "plt.title('Survival rate based on gender.',fontsize=14)\n",
    "categories_total = ['Female', 'Male']\n",
    "for i,rect in enumerate(plot_2.patches):\n",
    "    height = rect.get_height()\n",
    "    plot_2.text(rect.get_x() + rect.get_width()/2.,height-5,'{},\\n{}%'.format(categories_total[i],\\\n",
    "    int(height)),ha='center', va='top',fontsize=14)  \n"
   ]
  },
  {
   "cell_type": "markdown",
   "metadata": {},
   "source": [
    "### \"Titanic\" total passangers based on class and gender"
   ]
  },
  {
   "cell_type": "code",
   "execution_count": 22,
   "metadata": {
    "collapsed": false
   },
   "outputs": [
    {
     "name": "stdout",
     "output_type": "stream",
     "text": [
      "Pclass    1    2    3\n",
      "Sex                  \n",
      "female   94   76  144\n",
      "male    122  108  347\n",
      "\n",
      "Pclass         1         2         3\n",
      "Sex                                 \n",
      "female  0.299363  0.242038  0.458599\n",
      "male    0.211438  0.187175  0.601386\n"
     ]
    }
   ],
   "source": [
    "print pd.crosstab(gender,pclass)\n",
    "print\n",
    "print pd.crosstab(gender,pclass,normalize='index')"
   ]
  },
  {
   "cell_type": "code",
   "execution_count": 23,
   "metadata": {
    "collapsed": false
   },
   "outputs": [
    {
     "data": {
      "image/png": "[encoded data removed]",
      "text/plain": [
       "<matplotlib.figure.Figure at 0x119a24850>"
      ]
     },
     "metadata": {},
     "output_type": "display_data"
    }
   ],
   "source": [
    "rate_genders = pd.concat([rate_f,rate_m])\n",
    "levels = np.concatenate((class_f, class_m))\n",
    "\n",
    "survival_rate = pd.Series(\n",
    "    rate_genders,\n",
    "    index = levels\n",
    ")\n",
    "\n",
    "plot_1 = survival_rate.plot(\n",
    "    kind='bar',\n",
    "    color=['yellowgreen', 'gold', 'lightskyblue', 'lightcoral', 'green', 'orange'],\n",
    "    width=0.9,  \n",
    "    position=1.5,\n",
    "    figsize=(12,8)\n",
    ")\n",
    "\n",
    "plot_1.axes.get_xaxis().set_visible(False) \n",
    "plt.ylabel('Survived, %')\n",
    "plt.title('Survival rate based on passanger gender and class.',fontsize=14)\n",
    "\n",
    "categories = grouped_gen_class.count()['Survived'].keys()\n",
    "for i,rect in enumerate(plot_1.patches):\n",
    "    height = rect.get_height()\n",
    "    plot_1.text(rect.get_x() + rect.get_width()/2.,\\\n",
    "            height-2,\\\n",
    "            '{},\\nClass {},\\n{}%'.format(categories[i][0].title(), categories[i][1], int(height)),\\\n",
    "            ha='center', va='top',fontsize=14) "
   ]
  },
  {
   "cell_type": "markdown",
   "metadata": {},
   "source": [
    "### P-Value"
   ]
  },
  {
   "cell_type": "markdown",
   "metadata": {},
   "source": [
    "I am using Fisher’s exact test to compare data in order to determine if there is any association between them."
   ]
  },
  {
   "cell_type": "code",
   "execution_count": 24,
   "metadata": {
    "collapsed": false
   },
   "outputs": [],
   "source": [
    "import scipy.stats as stats"
   ]
  },
  {
   "cell_type": "code",
   "execution_count": 25,
   "metadata": {
    "collapsed": false
   },
   "outputs": [
    {
     "name": "stdout",
     "output_type": "stream",
     "text": [
      "577 314\n"
     ]
    }
   ],
   "source": [
    "print gender.value_counts()['male'], gender.value_counts()['female']"
   ]
  },
  {
   "cell_type": "code",
   "execution_count": 26,
   "metadata": {
    "collapsed": false
   },
   "outputs": [
    {
     "name": "stdout",
     "output_type": "stream",
     "text": [
      "109 233\n"
     ]
    }
   ],
   "source": [
    "print total_survived_m, total_survived_f"
   ]
  },
  {
   "cell_type": "code",
   "execution_count": 27,
   "metadata": {
    "collapsed": false
   },
   "outputs": [
    {
     "name": "stdout",
     "output_type": "stream",
     "text": [
      "2.4456146362e-25\n"
     ]
    }
   ],
   "source": [
    "oddsratio, pvalue = stats.fisher_exact([gender.value_counts(),[total_survived_m,total_survived_f]])\n",
    "print pvalue"
   ]
  },
  {
   "cell_type": "markdown",
   "metadata": {},
   "source": [
    "### 6. CONCLUSION"
   ]
  },
  {
   "cell_type": "markdown",
   "metadata": {},
   "source": [
    "As the P-Value is less than significance level of 5%, the probability of that the gender will impact the chances of survival is high. Based on the data sample, the overall survival rate for men was 18%, for women it was 74%. Therefore we can reject the null hypothesis. Also, the survival rate for men traveling first class was just 2/3 of the survival rate for women traveling third class. I believe, it was indeed women rescued first.\n"
   ]
  },
  {
   "cell_type": "markdown",
   "metadata": {},
   "source": [
    "#### RECOURSES:\n",
    "http://www.ultimatetitanic.com/facts-statistics/#.V60PRpMrKHp\n",
    "\n",
    "https://www.kaggle.com/c/titanic\n",
    "\n",
    "http://www.historyonthenet.com/titanic/passengers.htm\n",
    "\n",
    "http://matplotlib.org/1.2.1/examples/pylab_examples/barchart_demo.html\n",
    "\n",
    "http://stackoverflow.com/questions/10388462/matplotlib-different-size-subplots\n",
    "\n",
    "https://blogtanic.wordpress.com/tag/titanic-survival-rates/\n",
    "\n",
    "http://pandas.pydata.org/pandas-docs/version/0.17.0/generated/pandas.Series.unique.html\n",
    "\n",
    "http://sphinxcontrib-napoleon.readthedocs.io/en/latest/example_google.html\n",
    "\n",
    "http://docs.scipy.org/doc/scipy-0.14.0/reference/generated/scipy.stats.fisher_exact.html\n"
   ]
  }
 ],
 "metadata": {
  "kernelspec": {
   "display_name": "Python 2",
   "language": "python",
   "name": "python2"
  },
  "language_info": {
   "codemirror_mode": {
    "name": "ipython",
    "version": 2
   },
   "file_extension": ".py",
   "mimetype": "text/x-python",
   "name": "python",
   "nbconvert_exporter": "python",
   "pygments_lexer": "ipython2",
   "version": "2.7.12"
  }
 },
 "nbformat": 4,
 "nbformat_minor": 0
}
